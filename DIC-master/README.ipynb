{
 "cells": [
  {
   "cell_type": "markdown",
   "id": "4acc599e",
   "metadata": {},
   "source": [
    "### Github repository"
   ]
  },
  {
   "cell_type": "code",
   "execution_count": null,
   "id": "1b13fc77",
   "metadata": {},
   "outputs": [],
   "source": [
    "https://github.com/dushar124/DIC-Image_segmentation_Akshay_Dushar"
   ]
  },
  {
   "cell_type": "markdown",
   "id": "5808e62a",
   "metadata": {},
   "source": [
    "### Dataset"
   ]
  },
  {
   "cell_type": "code",
   "execution_count": null,
   "id": "9ccccaf1",
   "metadata": {},
   "outputs": [],
   "source": []
  },
  {
   "cell_type": "markdown",
   "id": "c66c3bd1",
   "metadata": {},
   "source": [
    "### Run the file name named:"
   ]
  },
  {
   "cell_type": "markdown",
   "id": "6b9097a2",
   "metadata": {},
   "source": [
    "AIDI_1002_Final_Project_Template.ipynb"
   ]
  },
  {
   "cell_type": "markdown",
   "id": "95f39ed1",
   "metadata": {},
   "source": [
    "### Install all the required libraries:"
   ]
  },
  {
   "cell_type": "code",
   "execution_count": null,
   "id": "74540f5b",
   "metadata": {},
   "outputs": [],
   "source": [
    "pip install torch torchvision torchaudio"
   ]
  },
  {
   "cell_type": "code",
   "execution_count": null,
   "id": "e595ec7d",
   "metadata": {},
   "outputs": [],
   "source": [
    "pip install opencv-python"
   ]
  },
  {
   "cell_type": "markdown",
   "id": "1bb737f8",
   "metadata": {},
   "source": [
    "### Installation of required library for the Contribution Code"
   ]
  },
  {
   "cell_type": "code",
   "execution_count": null,
   "id": "c6e385d3",
   "metadata": {},
   "outputs": [],
   "source": [
    "!pip install tf-keras"
   ]
  },
  {
   "cell_type": "code",
   "execution_count": null,
   "id": "96153463",
   "metadata": {},
   "outputs": [],
   "source": [
    "model = TFSamModel.from_pretrained(\"facebook/sam-vit-base\")\n",
    "processor = SamProcessor.from_pretrained(\"facebook/sam-vit-base\")"
   ]
  },
  {
   "cell_type": "markdown",
   "id": "d100a082",
   "metadata": {},
   "source": [
    "### INTRODUCTION OF THE PROJECT:\n",
    "*********************************************************************************************************************\n",
    "#### AIM : \n",
    "The project's aim is to create a unsupervised segmentation framework utilizing deep learning techniques, with a particular emphasis on overcoming the shortcomings of existing approaches. The Deep Image Clustering (DIC) model serves as the embodiment of this approach, which attempts to address issues like high computational complexity and parameter sensitivity related to unsupervised segmentation. The DIC model successfully completes unsupervised image clustering by combining a trainable Deep Clustering Subnetwork (DCS) and a Feature Transformation Subnetwork (FTS) by utilizing the adaptability of neural networks. By improving feature aggregation, decreasing sensitivity to segmentation parameters, and cutting computational costs, the research seeks to achieve greater segmentation performance over current methods. The project attempts to confirm the results of intensive testing and analysis on benchmark datasets such as the Berkley Segmentation Database.\n",
    "*********************************************************************************************************************\n",
    "#### Github Repo: \n",
    "https://github.com/zmbhou/DIC/blob/master/demo_DIC_BSD.py\n",
    "*********************************************************************************************************************\n",
    "#### DESCRIPTION OF PAPER:\n",
    "The study presents an unsupervised segmentation method based on a unique Deep Image Clustering (DIC) model. For unsupervised image clustering, this model includes a feature transformation subnetwork (FTS) and a trainable deep clustering subnetwork (DCS). To allocate pixels to distinct clusters, the DCS repeatedly changes cluster allocations and centres. Furthermore, a refinement loss improves the DIC parameters, and experiments on the Berkeley Segmentation Database show that the DIC model is more effective at feature aggregation, less sensitive to segmentation parameters, and produces better segmentation performance than existing methods.\n",
    "\n",
    "*********************************************************************************************************************\n",
    "#### PROBLEM STATEMENT :\n",
    "To Overcoming the challenges prevalent in current unsupervised segmentation methods, the approach encounters issues such as parameter sensitivity and high computational demands during both training and inference. In response, a novel Deep Image Clustering (DIC) model is introduced, leveraging the adaptability of neural networks. In achieving successful unsupervised image clustering, the DIC model incorporates a Feature Transformation Subnetwork (FTS) and a trainable Deep Clustering Subnetwork (DCS). \n",
    "\n",
    "Within the DIC model, the DCS is responsible for assigning pixels varying cluster numbers through iterative updates of cluster relationships and centroids. This methodology enhances feature aggregation throughout the clustering process, leading to improved segmentation outcomes. When benchmarked against state-of-the-art techniques using the Berkley Segmentation Database, the DIC model demonstrates superior performance. Notably, it exhibits reduced sensitivity to segmentation parameter adjustments and offers lower computational overheads, establishing it as a more efficient and effective solution for image segmentation.\n",
    "*********************************************************************************************************************\n",
    "#### CONTEXT OF THE PROBLEM:\n",
    "* In computer vision, unsupervised segmentation is a key method for identifying objects or areas of interest in pictures.\n",
    "* The high computational complexity and parameter sensitivity of current unsupervised segmentation algorithms provide challenges  during both training and inference.\n",
    "* The study proposes a unique method called Deep picture Clustering (DIC) that makes use of neural networks' adaptability to     tackle problems with unsupervised picture segmentation. DIC is made up of two primary parts: a Trainable Deep Clustering Subnetwork (DCS) and a Feature Transformation Subnetwork  (FTS) intended for image clustering without labelled input.\n",
    "*********************************************************************************************************************\n",
    "#### SOLUTION:\n",
    "* Parameter sensitivity and excessive complexity are problems with unsupervised segmentation in computer vision.Different  segmentation numbers and computing needs are challenges for current approaches.\n",
    "* In order to take advantage of the adaptability of neural networks, a unique deep image clustering (DIC) framework is presented. It consists of a trainable deep clustering subnetwork (DCS) and a feature transformation subnetwork (FTS).\n",
    "* FTS has a straightforward but efficient network structure. DCS repeatedly changes the cluster centres and assignments, enabling pixels to be a part of several clusters. With this method, feature aggregation is improved.\n",
    "* A superpixel-guided iterative refinement loss is used to reduce overfitting and improve DIC settings. The resilience of the model is improved by this method."
   ]
  },
  {
   "cell_type": "markdown",
   "id": "73b5da29",
   "metadata": {},
   "source": []
  }
 ],
 "metadata": {
  "kernelspec": {
   "display_name": "Python 3 (ipykernel)",
   "language": "python",
   "name": "python3"
  },
  "language_info": {
   "codemirror_mode": {
    "name": "ipython",
    "version": 3
   },
   "file_extension": ".py",
   "mimetype": "text/x-python",
   "name": "python",
   "nbconvert_exporter": "python",
   "pygments_lexer": "ipython3",
   "version": "3.10.9"
  }
 },
 "nbformat": 4,
 "nbformat_minor": 5
}
