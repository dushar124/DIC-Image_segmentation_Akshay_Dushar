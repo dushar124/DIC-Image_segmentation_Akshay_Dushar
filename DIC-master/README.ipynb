{
 "cells": [
  {
   "cell_type": "markdown",
   "id": "371b88f9",
   "metadata": {},
   "source": [
    "# Title: DIC: Deep Image Clustering for Unsupervised Image Segmentation\n",
    "\n",
    "### Group members\n",
    "####  Name : Akshay kaushik\n",
    "####  Email :200582197@student.georgianc.on.ca\n",
    "####  Name : Dushar\n",
    "####  Email :200582193@student.georgianc.on.ca"
   ]
  },
  {
   "cell_type": "markdown",
   "id": "c58f92d9",
   "metadata": {},
   "source": [
    "### Github repository"
   ]
  },
  {
   "cell_type": "code",
   "execution_count": null,
   "id": "13f72edd",
   "metadata": {},
   "outputs": [],
   "source": [
    "https://github.com/dushar124/DIC-Image_segmentation_Akshay_Dushar"
   ]
  },
  {
   "cell_type": "markdown",
   "id": "2f133229",
   "metadata": {},
   "source": [
    "### Dataset"
   ]
  },
  {
   "cell_type": "code",
   "execution_count": null,
   "id": "081d6ec0",
   "metadata": {},
   "outputs": [],
   "source": [
    "https://github.com/dushar124/DIC-Image_segmentation_Akshay_Dushar/tree/main/DIC-master/image"
   ]
  },
  {
   "cell_type": "markdown",
   "id": "c7444fb7",
   "metadata": {},
   "source": [
    "### Run the file name named:"
   ]
  },
  {
   "cell_type": "markdown",
   "id": "9162cec2",
   "metadata": {},
   "source": [
    "AIDI_1002_Final_Project_Template.ipynb"
   ]
  },
  {
   "cell_type": "markdown",
   "id": "b5a8afd5",
   "metadata": {},
   "source": [
    "### Install all the required libraries:"
   ]
  },
  {
   "cell_type": "code",
   "execution_count": null,
   "id": "7b23ef64",
   "metadata": {},
   "outputs": [],
   "source": [
    "pip install torch torchvision torchaudio"
   ]
  },
  {
   "cell_type": "code",
   "execution_count": null,
   "id": "ab9d11d6",
   "metadata": {},
   "outputs": [],
   "source": [
    "pip install opencv-python"
   ]
  },
  {
   "cell_type": "markdown",
   "id": "d1d07af3",
   "metadata": {},
   "source": [
    "### Installation of required library for the Contribution Code"
   ]
  },
  {
   "cell_type": "code",
   "execution_count": null,
   "id": "871e7847",
   "metadata": {},
   "outputs": [],
   "source": [
    "!pip install tf-keras"
   ]
  },
  {
   "cell_type": "code",
   "execution_count": null,
   "id": "c787d6d3",
   "metadata": {},
   "outputs": [],
   "source": [
    "model = TFSamModel.from_pretrained(\"facebook/sam-vit-base\")\n",
    "processor = SamProcessor.from_pretrained(\"facebook/sam-vit-base\")"
   ]
  }
 ],
 "metadata": {
  "kernelspec": {
   "display_name": "Python 3 (ipykernel)",
   "language": "python",
   "name": "python3"
  },
  "language_info": {
   "codemirror_mode": {
    "name": "ipython",
    "version": 3
   },
   "file_extension": ".py",
   "mimetype": "text/x-python",
   "name": "python",
   "nbconvert_exporter": "python",
   "pygments_lexer": "ipython3",
   "version": "3.10.9"
  }
 },
 "nbformat": 4,
 "nbformat_minor": 5
}
